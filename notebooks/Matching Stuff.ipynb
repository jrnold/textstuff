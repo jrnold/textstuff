{
 "cells": [
  {
   "cell_type": "code",
   "execution_count": 1,
   "metadata": {
    "collapsed": true
   },
   "outputs": [],
   "source": [
    "import spacy"
   ]
  },
  {
   "cell_type": "code",
   "execution_count": 8,
   "metadata": {
    "collapsed": true
   },
   "outputs": [],
   "source": [
    "text = \"The quick brown             fox jumps over the lazy dog.\" "
   ]
  },
  {
   "cell_type": "code",
   "execution_count": 9,
   "metadata": {
    "collapsed": true
   },
   "outputs": [],
   "source": [
    "nlp = spacy.load(\"en\")"
   ]
  },
  {
   "cell_type": "code",
   "execution_count": 10,
   "metadata": {
    "collapsed": true
   },
   "outputs": [],
   "source": [
    "doc = nlp(text)"
   ]
  },
  {
   "cell_type": "code",
   "execution_count": 12,
   "metadata": {},
   "outputs": [
    {
     "data": {
      "text/plain": [
       "[The, quick, brown,             , fox, jumps, over, the, lazy, dog, .]"
      ]
     },
     "execution_count": 12,
     "metadata": {},
     "output_type": "execute_result"
    }
   ],
   "source": [
    "[tok for tok in doc]"
   ]
  },
  {
   "cell_type": "code",
   "execution_count": 7,
   "metadata": {},
   "outputs": [
    {
     "data": {
      "text/plain": [
       "The quick brown fox jumps over the lazy dog."
      ]
     },
     "execution_count": 7,
     "metadata": {},
     "output_type": "execute_result"
    }
   ],
   "source": [
    "doc"
   ]
  },
  {
   "cell_type": "code",
   "execution_count": 22,
   "metadata": {
    "collapsed": true
   },
   "outputs": [],
   "source": [
    "import collections\n",
    "\n",
    "def Matcher(tok, *args, **kwargs):\n",
    "    \"\"\"Match x\n",
    "    \n",
    "    \n",
    "    tok: :class:`spacy.tokens.Token`\n",
    "        A spacy token    \n",
    "    *args, **kwargs:\n",
    "        See description\n",
    "      \n",
    "    Match a token aginst a series of rules. By default, the result is ``True``. \n",
    "    If all patterns are matched, the function returns ``True``. If any \n",
    "    pattern does not match, the function returns ``False``.\n",
    "    \n",
    "    Global patterns: Let ``x`` be the token, and ``pat`` the pattern:\n",
    "    \n",
    "    - ``None``: ``False``\n",
    "    - ``bool``: ``pat``\n",
    "    - callables, including functions: ``pat(x)``\n",
    "    - regular expression: ``pat.search(x.text)``\n",
    "    - iterable: ``x in pat``\n",
    "    - otherwise: ``x == pat``\n",
    "    \n",
    "    Attribute patterns: Let ``x`` be the value of the attribute, and ``pat`` the pattern:\n",
    "    \n",
    "    - callables, including functions: ``pat(x)``\n",
    "    - regular expression: ``pat.search(str(x))``\n",
    "    - iterable: ``x in pat``\n",
    "    - otherwise: ``x == pat``\n",
    "    \n",
    "    \n",
    "    \"\"\"\n",
    "    def __init__(self, *args, **kwargs):\n",
    "        self._global_patterns = args\n",
    "        self._attr_patterns = kwargs\n",
    "\n",
    "    def match(self, token):\n",
    "        for pat in self._global_patterns:\n",
    "            if pat is None:\n",
    "                return False\n",
    "            elif isinstance(pat, bool):\n",
    "                if not pat:\n",
    "                    return False\n",
    "            if isinstance(pat, collections.Callable):\n",
    "                if not pat(tok):\n",
    "                    return False\n",
    "            elif hasattr(pat, 'match'):\n",
    "                # regexp\n",
    "                if not arg.search(tok.text):\n",
    "                    return False\n",
    "            elif hasattr(pat, '__iter__'):\n",
    "                # match against an iterable\n",
    "                if tok not in pat:\n",
    "                    return False\n",
    "            else:\n",
    "                # if all else fails, test equality\n",
    "                if tok != pat:\n",
    "                    return False\n",
    "        for attr, pat in self._attr_patterns:            \n",
    "            if isinstance(pat, collections.Callable):\n",
    "                if not pat(tok.__getattr__(attr)):\n",
    "                    return False\n",
    "            elif hasattr(arg, 'match'):\n",
    "                # regexp\n",
    "                if not arg.search(str(tok.__getattr__(attr))):\n",
    "                    return False\n",
    "            # if attribute is iterable, maybe I should do something different?\n",
    "            # if object is an iterable, matching equality also become an issue\n",
    "            elif hasattr(arg, '__iter__'):\n",
    "                # match against an iterable\n",
    "                if tok.__getattr__(attr) not in pat:\n",
    "                    return False\n",
    "            else:\n",
    "                if tok.__getattr__(attr) != pat:\n",
    "                    return False\n",
    "        # default is that \n",
    "        # only return True if all patterns have matched\n",
    "        return True\n",
    "        "
   ]
  },
  {
   "cell_type": "markdown",
   "metadata": {},
   "source": [
    "The basic idea of matching objects has several \n",
    "\n",
    "- LINQ: \n",
    "\n",
    "    - https://github.com/viralogic/py-enumerable\n",
    "    - https://pypi.python.org/pypi/py-linq/0.4.0\n",
    "    - https://github.com/heynemann/pynq/wiki\n",
    "    - maybe LINQ is overthinking it: http://sayspy.blogspot.com.au/2006/02/why-python-doesnt-need-something-like.html\n",
    "    \n",
    "- Functional pattern matching\n",
    "\n",
    "    - https://pypi.python.org/pypi/pypatt\n",
    "    - https://github.com/Suor/patterns\n",
    "    - https://github.com/martinblech/pyfpm\n",
    "    \n",
    "- Regular exprssions for objects: https://github.com/machinalis/refo (This is closest to what I'm looking for)\n",
    "- PyParsing: http://pyparsing.wikispaces.com/. But what if it used objects instead of strings? \n",
    "    "
   ]
  },
  {
   "cell_type": "markdown",
   "metadata": {},
   "source": [
    "Some NLP stuff\n",
    "\n",
    "- CoreNLP: TokensRegex https://nlp.stanford.edu/software/tokensregex.html\n",
    "- CoreNLP: Tregex, Tsurgeon, and Semgrex: https://nlp.stanford.edu/software/tregex.shtml\n",
    "- tgrep2: http://tedlab.mit.edu/~dr/Tgrep2/\n",
    "- nltk tgrep: https://pypi.python.org/pypi/nltk_tgrep/\n",
    "- A python implementation of Tregex: https://github.com/yandex/dep_tregex but for dependency parsing\n",
    "- pyparsing example with tgrep: https://www.programcreek.com/python/example/74156/pyparsing.White\n",
    "- NLTK chunker: http://www.nltk.org/api/nltk.chunk.html"
   ]
  },
  {
   "cell_type": "markdown",
   "metadata": {
    "collapsed": true
   },
   "source": [
    "- A javascript POS regex https://github.com/markbirbeck/pos-chunker"
   ]
  },
  {
   "cell_type": "code",
   "execution_count": 23,
   "metadata": {},
   "outputs": [
    {
     "ename": "SyntaxError",
     "evalue": "invalid syntax (<ipython-input-23-cb451c3dfab3>, line 1)",
     "output_type": "error",
     "traceback": [
      "\u001b[0;36m  File \u001b[0;32m\"<ipython-input-23-cb451c3dfab3>\"\u001b[0;36m, line \u001b[0;32m1\u001b[0m\n\u001b[0;31m    - practNLPTools has https://github.com/jawahar273/practNLPTools-lite\u001b[0m\n\u001b[0m                      ^\u001b[0m\n\u001b[0;31mSyntaxError\u001b[0m\u001b[0;31m:\u001b[0m invalid syntax\n"
     ]
    }
   ],
   "source": [
    "- practNLPTools has https://github.com/jawahar273/practNLPTools-lite"
   ]
  },
  {
   "cell_type": "markdown",
   "metadata": {},
   "source": [
    "Adapt code from conll-U"
   ]
  },
  {
   "cell_type": "code",
   "execution_count": null,
   "metadata": {
    "collapsed": true
   },
   "outputs": [],
   "source": [
    "import re\n",
    "from collections import OrderedDict, defaultdict\n",
    "\n",
    "DEFAULT_FIELDS = ('id', 'form', 'lemma', 'upostag', 'xpostag', 'feats', 'head', 'deprel', 'deps', 'misc')\n",
    "\n",
    "def parse(text, fields=DEFAULT_FIELDS):\n",
    "    return [\n",
    "        [\n",
    "            parse_line(line, fields)\n",
    "            for line in sentence.split(\"\\n\")\n",
    "            if line and not line.strip().startswith(\"#\")\n",
    "        ]\n",
    "        for sentence in text.split(\"\\n\\n\")\n",
    "        if sentence\n",
    "    ]\n",
    "\n",
    "def parse_line(line, fields=DEFAULT_FIELDS):\n",
    "    line = re.split(r\"\\t| {2,}\", line)\n",
    "    data = OrderedDict()\n",
    "\n",
    "    for i, field in enumerate(fields):\n",
    "        # Allow parsing CoNNL-U files with fewer columns\n",
    "        if i >= len(line):\n",
    "            break\n",
    "\n",
    "        if field == \"id\":\n",
    "            value = parse_int_value(line[i])\n",
    "\n",
    "        elif field == \"xpostag\":\n",
    "            value = parse_nullable_value(line[i])\n",
    "\n",
    "        elif field == \"feats\":\n",
    "            value = parse_dict_value(line[i])\n",
    "\n",
    "        elif field == \"head\":\n",
    "            value = parse_int_value(line[i])\n",
    "\n",
    "        elif field == \"deps\":\n",
    "            value = parse_nullable_value(line[i])\n",
    "\n",
    "        elif field == \"misc\":\n",
    "            value = parse_dict_value(line[i])\n",
    "\n",
    "        else:\n",
    "            value = line[i]\n",
    "\n",
    "        data[field] = value\n",
    "\n",
    "    return data\n",
    "\n",
    "def parse_int_value(value):\n",
    "    if value.isdigit():\n",
    "        return int(value)\n",
    "\n",
    "    return None\n",
    "\n",
    "def parse_dict_value(value):\n",
    "    if \"=\" in value:\n",
    "        return OrderedDict([\n",
    "            (part.split(\"=\")[0], parse_nullable_value(part.split(\"=\")[1]))\n",
    "            for part in value.split(\"|\")\n",
    "        ])\n",
    "\n",
    "    return parse_nullable_value(value)\n",
    "\n",
    "def parse_nullable_value(value):\n",
    "    if not value or value == \"_\":\n",
    "        return None\n",
    "\n",
    "    return value\n",
    "\n",
    "\n",
    "spacy"
   ]
  }
 ],
 "metadata": {
  "kernelspec": {
   "display_name": "Python 3",
   "language": "python",
   "name": "python3"
  },
  "language_info": {
   "codemirror_mode": {
    "name": "ipython",
    "version": 3
   },
   "file_extension": ".py",
   "mimetype": "text/x-python",
   "name": "python",
   "nbconvert_exporter": "python",
   "pygments_lexer": "ipython3",
   "version": "3.6.2"
  }
 },
 "nbformat": 4,
 "nbformat_minor": 2
}
